{
 "cells": [
  {
   "cell_type": "markdown",
   "metadata": {},
   "source": [
    "#### Dependencies"
   ]
  },
  {
   "cell_type": "code",
   "execution_count": 1,
   "metadata": {},
   "outputs": [],
   "source": [
    "import pandas as pd\n",
    "from sqlalchemy import create_engine\n",
    "import matplotlib.pyplot as plt\n",
    "import seaborn as sns\n",
    "from IPython.display import display\n",
    "from IPython.display import clear_output"
   ]
  },
  {
   "cell_type": "markdown",
   "metadata": {
    "slideshow": {
     "slide_type": "-"
    }
   },
   "source": [
    "\n",
    "#### load the source CSV file names into a list as a file references"
   ]
  },
  {
   "cell_type": "code",
   "execution_count": 2,
   "metadata": {},
   "outputs": [],
   "source": [
    "path='../Resources/'\n",
    "extract_table_names=pd.read_csv(path+'Extract_table_names.txt',header=None)\n"
   ]
  },
  {
   "cell_type": "markdown",
   "metadata": {},
   "source": [
    "\n",
    "#### Read the uploaded file names list and store into Pandas data frame list"
   ]
  },
  {
   "cell_type": "code",
   "execution_count": 3,
   "metadata": {},
   "outputs": [],
   "source": [
    "extract_df=[]\n",
    "for index,table in extract_table_names.iterrows():\n",
    "    extract_df.append(pd.read_csv(path+table[0]))\n",
    "\n"
   ]
  },
  {
   "cell_type": "markdown",
   "metadata": {},
   "source": [
    "#### Function to print the content of data frame passing a dataframe index as (number)"
   ]
  },
  {
   "cell_type": "code",
   "execution_count": 4,
   "metadata": {},
   "outputs": [],
   "source": [
    "\n",
    " def print_extract_df(number):\n",
    "     print(f\"the table code is ({number}) the table name is: {extract_table_names[0][number]}\")\n",
    "     display(extract_df[number])\n",
    "    \n",
    "     return\n"
   ]
  },
  {
   "cell_type": "markdown",
   "metadata": {},
   "source": [
    "#### Heatmap function to drow the data frame by a dataframe index"
   ]
  },
  {
   "cell_type": "code",
   "execution_count": 5,
   "metadata": {},
   "outputs": [],
   "source": [
    "def check_extarct_data(number):\n",
    "    print(f\"the table code is ({number}) the table name is: {extract_table_names[0][number]}\")\n",
    "    fig, ax = plt.subplots(figsize=(20,10))     \n",
    "    cols = extract_df[number].columns \n",
    "    plt.title(extract_table_names[0][number])\n",
    "    colours = ['#5b6180', '#FF6663'] \n",
    "    sns.heatmap(extract_df[number][cols].isnull(), cmap=sns.color_palette(colours))\n",
    "    ax.set_xticklabels(ax.get_xticklabels(),rotation =90)\n",
    "    plt.show()\n"
   ]
  },
  {
   "cell_type": "markdown",
   "metadata": {},
   "source": [
    "#### Display the dataframe information summary by a dataframe index"
   ]
  },
  {
   "cell_type": "code",
   "execution_count": 6,
   "metadata": {},
   "outputs": [],
   "source": [
    "def get_coloumns_info(number):\n",
    "    print(f\"the table code is ({number}) the table name is: {extract_table_names[0][number]}\")\n",
    "    extract_df[number].info()\n",
    "    return "
   ]
  },
  {
   "cell_type": "markdown",
   "metadata": {},
   "source": [
    "#### Drop a list of columns from a dataframe by sending a list of cloumn index and dataframe index\n"
   ]
  },
  {
   "cell_type": "code",
   "execution_count": 7,
   "metadata": {},
   "outputs": [],
   "source": [
    "def drop_columns(number,cols):\n",
    "    print(f\"the table code is ({number}) the table name is: {extract_table_names[0][number]}\")\n",
    "    extract_df[number].drop(extract_df[number].columns[cols],axis=1,inplace=True)\n",
    "    return\n",
    "\n"
   ]
  },
  {
   "cell_type": "markdown",
   "metadata": {},
   "source": [
    "#### Replace the nill value for a dataframe by sending the dataframe index\n"
   ]
  },
  {
   "cell_type": "code",
   "execution_count": 8,
   "metadata": {},
   "outputs": [],
   "source": [
    "def replace_none(number):\n",
    "    print(f\"the table code is ({number}) the table name is: {extract_table_names[0][number]}\")\n",
    "    extract_df[number]=extract_df[number].fillna(0)\n",
    "    return\n"
   ]
  },
  {
   "cell_type": "markdown",
   "metadata": {},
   "source": [
    "#### Replacing the columns data type by sending a dictionary list for the column index and new data type by dataframe index\n"
   ]
  },
  {
   "cell_type": "code",
   "execution_count": 9,
   "metadata": {},
   "outputs": [],
   "source": [
    "def replace_column_type(number,data):\n",
    "    data_list=data.split(',')\n",
    "    for cast in data_list:\n",
    "        cs=cast.split(':')\n",
    "        colname = extract_df[number].columns[int(cs[0])]\n",
    "        extract_df[number][colname]=extract_df[number][colname].astype(cs[1], errors='raise')\n",
    "    print(data_list)\n",
    "    get_coloumns_info(number)\n",
    "    return"
   ]
  },
  {
   "cell_type": "markdown",
   "metadata": {},
   "source": [
    "#### Rename list of columns by sending a dictionary list of cloumn index and new name by dataframe index\n"
   ]
  },
  {
   "cell_type": "code",
   "execution_count": 10,
   "metadata": {},
   "outputs": [],
   "source": [
    "def rename_column(number,data):\n",
    "    data_list=data.split(',')\n",
    "    for cast in data_list:\n",
    "        cs=cast.split(':')\n",
    "        colname = extract_df[number].columns[int(cs[0])]\n",
    "        extract_df[number]=extract_df[number].rename({colname:cs[1]},axis='columns')\n",
    "    #get_coloumns_info(number)\n",
    "    return"
   ]
  },
  {
   "cell_type": "markdown",
   "metadata": {},
   "source": [
    "#### insert an index column to a dataframe\n"
   ]
  },
  {
   "cell_type": "code",
   "execution_count": 11,
   "metadata": {},
   "outputs": [],
   "source": [
    "def insert_column(number):\n",
    "    extract_df[number].insert(loc=0,column='t_index',value=0)\n",
    "    extract_df[number]['t_index']=range(1,len(extract_df[number])+1)\n",
    "    return"
   ]
  },
  {
   "cell_type": "markdown",
   "metadata": {},
   "source": [
    "#### insert an index column to a dataframe\n"
   ]
  },
  {
   "cell_type": "code",
   "execution_count": 12,
   "metadata": {},
   "outputs": [],
   "source": [
    "import io\n",
    "def road_map(edition):\n",
    "    with open(path+'road_map'+edition+'.txt', 'w') as f:\n",
    "        for index,table in extract_table_names.iterrows():\n",
    "            print('Table Name: ',index,'   ',table[0],file=f)\n",
    "            print('--------------------------------------------------','\\n\\nTable Info:',file=f)\n",
    "            print('-------------------------',file=f)\n",
    "            buffer = io.StringIO()\n",
    "            extract_df[index].info(buf=buffer)\n",
    "            s = buffer.getvalue()\n",
    "            f.write(s)\n",
    "            count_nan = len(extract_df[index]) - extract_df[index].count()\n",
    "            colname=[]\n",
    "            for index1,x in enumerate(count_nan):\n",
    "                if x!=0:\n",
    "                    colname.append(extract_df[index].columns[index1])\n",
    "            if len(colname)>=1:\n",
    "                print('\\nColumn/s Describition\\n','-------------------------',file=f)\n",
    "                x=extract_df[index][colname].describe()\n",
    "                print(x,file=f)        \n",
    "            print('\\n\\n',file=f)\n",
    "    \n",
    "    return"
   ]
  },
  {
   "cell_type": "markdown",
   "metadata": {},
   "source": [
    "#### Creat draft text file to use for EDR generation\n"
   ]
  },
  {
   "cell_type": "code",
   "execution_count": 13,
   "metadata": {},
   "outputs": [],
   "source": [
    "def create_EDR():\n",
    "    sql_table_name=pd.read_csv(path+'sql_dest_tables.txt',header=None)  \n",
    "    for index,line in sql_table_name.iterrows():      \n",
    "        if line[0].find('#')>=0:            \n",
    "            print('\\n',line[0].replace(\"#\", ''))\n",
    "            print('-------------')\n",
    "        else:\n",
    "            col=line[0].split('.')\n",
    "            colname=extract_df[int(col[0])].columns[int(col[1])]\n",
    "            key=''\n",
    "            if (extract_df[int(col[0])].dtypes[colname]=='object'):\n",
    "                temp='VARCHAR(100)'\n",
    "            elif (extract_df[int(col[0])].dtypes[colname]=='int64'):\n",
    "                temp='INT'\n",
    "            elif (extract_df[int(col[0])].dtypes[colname]=='float64'):\n",
    "                temp='FLOAT'\n",
    "            final_text=extract_df[int(col[0])].columns[int(col[1])]\n",
    "            final_text=final_text.replace(' ','_')\n",
    "            if len(col)>=3:\n",
    "                if col[2]=='p':\n",
    "                    key='PK'            \n",
    "            print(final_text,' ',key,' ',temp)\n",
    "    return"
   ]
  },
  {
   "cell_type": "markdown",
   "metadata": {},
   "source": [
    "#### Copy uniqe coulmn values from one df to another df\n"
   ]
  },
  {
   "cell_type": "code",
   "execution_count": 14,
   "metadata": {},
   "outputs": [],
   "source": [
    "def move_data(table1,column1,table2,column2):\n",
    "    extract_df[table2][extract_df[table2].columns[column2]]=extract_df[table1][extract_df[table1].columns[column1]].unique()\n",
    "    return  "
   ]
  },
  {
   "cell_type": "markdown",
   "metadata": {},
   "source": [
    "#### Function to create extra two df\n"
   ]
  },
  {
   "cell_type": "code",
   "execution_count": 15,
   "metadata": {},
   "outputs": [],
   "source": [
    "def create_df(table_code):\n",
    "    if table_code==1:\n",
    "        extract_table_names.loc[4]='Regional'\n",
    "        extract_df.append(pd.DataFrame(columns=['Regional_name']))        \n",
    "        move_data(3,1,4,0)\n",
    "    if table_code==2:\n",
    "        extract_table_names.loc[5]='yearly'\n",
    "        extract_df.append(pd.DataFrame(columns=['yearly_id','past_year']))\n",
    "        for i in range(1,100):\n",
    "            extract_df[5] = extract_df[5].append({'yearly_id': i,'past_year':1950+i}, ignore_index=True)                                  \n",
    "    return"
   ]
  },
  {
   "cell_type": "markdown",
   "metadata": {},
   "source": [
    "#### Join two df depend on column name\n"
   ]
  },
  {
   "cell_type": "code",
   "execution_count": 16,
   "metadata": {},
   "outputs": [],
   "source": [
    "def join(table1,column1,table2,column2):\n",
    "    extract_df[table1]=pd.merge(extract_df[table2], extract_df[table1], how=\"outer\", on=extract_df[table2].columns[column2])    \n",
    "    return"
   ]
  },
  {
   "cell_type": "markdown",
   "metadata": {},
   "source": [
    "#### User interface that we have used for testing purposes \n"
   ]
  },
  {
   "cell_type": "markdown",
   "metadata": {},
   "source": [
    "ix=0\n",
    "while ix!=10:\n",
    "    print(\"1 to dispaly a sorce table\")\n",
    "    print(\"2 to dispaly the columns information\")\n",
    "    print(\"3 to dispaly the table heatmap\")\n",
    "    print(\"4 replace nill values by 0\")\n",
    "    print(\"5 to drop columns\")\n",
    "    print(\"6 cahnge a coulmn type\")\n",
    "    print(\"7 rename a coulmn \")\n",
    "    print(\"8 insert index column\")\n",
    "    print(\"9 create road map\")\n",
    "    \n",
    "    print(\"please select a number\")\n",
    "\n",
    "    ix=int(input())\n",
    "    clear_output(wait=True)\n",
    "    if ix==1: \n",
    "        number=int(input(\"please enter the table number\"))\n",
    "        print_extract_df(number)\n",
    "    if ix==2: \n",
    "        number=int(input(\"please enter the table number\"))\n",
    "        get_coloumns_info(number)\n",
    "    if ix==3: \n",
    "        number=int(input(\"please enter the table number\"))\n",
    "        check_extarct_data(number)\n",
    "    if ix==4: \n",
    "        number=int(input(\"please enter the table number\"))\n",
    "        replace_none(number)   \n",
    "    if ix==5: \n",
    "        number=int(input(\"please enter the table number\"))\n",
    "        cols=int(input(\"please enter a list of column/s\"))\n",
    "        print(cols)\n",
    "        drop_columns(number,cols)   \n",
    "    if ix==6: \n",
    "        number=int(input(\"please enter the table number\"))\n",
    "        print(\"example: 0:int64,5:object,3:datetime64\")\n",
    "        data=input()\n",
    "        replace_column_type(number,data)   \n",
    "    if ix==7: \n",
    "        number=int(input(\"please enter the table number\"))\n",
    "        print(\"example: 0:John,1:Hatim,3:Hayley,4:Tuflikha\")\n",
    "        data=input()\n",
    "        rename_column(number,data)\n",
    "    if ix==8: \n",
    "        number=int(input(\"please enter the table number\"))\n",
    "        insert_column(number)\n",
    "    if ix==9: \n",
    "        number=input(\"please enter road map edition number\")\n",
    "        road_map(number)\n",
    "    \n",
    "\n"
   ]
  },
  {
   "cell_type": "markdown",
   "metadata": {},
   "source": [
    "#### automated task for the full ETL process, a sequence of functions calling"
   ]
  },
  {
   "cell_type": "code",
   "execution_count": 17,
   "metadata": {},
   "outputs": [],
   "source": [
    "road_map('1')\n",
    "#create regionla table\n",
    "create_df(1)\n",
    "insert_column(4)\n",
    "rename_column(4,'0:Regional_id')\n",
    "\n",
    "#creat yearly table\n",
    "create_df(2)\n",
    "\n",
    "#create index and rename columns name for country code\n",
    "insert_column(0)\n",
    "rename_column(0,'0:country_id,1:english_name,2:alpha_2_code,3:alpha_3_code,4:numeric_code,5:iso_3166_2') \n",
    "rename_column(2,'0:english_name,1:yearly_id,2:life_ladder,3:log_gdp_per_capita,4:social_support,\\\n",
    "                5:healthy_life_expectancy_at_birth,6:freedom_to_make_life_choices,7:generosity,\\\n",
    "              8:perceptions_of_corruption') \n",
    "rename_column(1,'0:english_name,1:population,3:net_change,6:migrants,7:fert_rate,8:med_age,9:urban_pop')\n",
    "rename_column(3,'0:english_name,1:regional_name,2:life_ladder,6:log_gdp_per_capita')\n"
   ]
  },
  {
   "cell_type": "code",
   "execution_count": 18,
   "metadata": {},
   "outputs": [
    {
     "name": "stdout",
     "output_type": "stream",
     "text": [
      "the table code is (0) the table name is: wikipedia-iso-country-codes.csv\n",
      "the table code is (1) the table name is: population_by_country_2020.csv\n",
      "the table code is (2) the table name is: world-happiness-report.csv\n",
      "the table code is (0) the table name is: wikipedia-iso-country-codes.csv\n"
     ]
    }
   ],
   "source": [
    "replace_none(0)\n",
    "replace_none(1)\n",
    "replace_none(2)\n",
    "sub=extract_df[1][['english_name','Land Area (Km²)']]\n",
    "extract_df[0]=pd.merge(extract_df[0], sub, how=\"left\", on=['english_name'])\n",
    "replace_none(0)\n",
    "rename_column(0,'6:land_area') \n",
    "sub=extract_df[0][['country_id','english_name']]\n",
    "extract_df[1]=pd.merge(extract_df[1], sub, how=\"left\", on=['english_name'])"
   ]
  },
  {
   "cell_type": "code",
   "execution_count": 19,
   "metadata": {},
   "outputs": [
    {
     "name": "stdout",
     "output_type": "stream",
     "text": [
      "the table code is (1) the table name is: population_by_country_2020.csv\n",
      "the table code is (2) the table name is: world-happiness-report.csv\n",
      "the table code is (3) the table name is: world-happiness-report-2021.csv\n",
      "                                 0\n",
      "0  wikipedia-iso-country-codes.csv\n",
      "1   population_by_country_2020.csv\n",
      "2       world-happiness-report.csv\n",
      "3  world-happiness-report-2021.csv\n",
      "4                         Regional\n",
      "5                           yearly\n",
      "                                 0\n",
      "0  wikipedia-iso-country-codes.csv\n",
      "1   population_by_country_2020.csv\n",
      "2       world-happiness-report.csv\n",
      "5                           yearly\n",
      "   index                                0\n",
      "0      0  wikipedia-iso-country-codes.csv\n",
      "1      1   population_by_country_2020.csv\n",
      "2      2       world-happiness-report.csv\n",
      "3      5                           yearly\n",
      "the table code is (1) the table name is: population_by_country_2020.csv\n"
     ]
    }
   ],
   "source": [
    "extract_df[1] = extract_df[1][extract_df[1]['country_id'] >= 1]\n",
    "drop_columns(1,[10,5,4,1,0])\n",
    "extract_df[1]['yearly_id']=2020-1950\n",
    "extract_df[2]['yearly_id']=extract_df[2]['yearly_id']-1950\n",
    "extract_df[2]=pd.merge(extract_df[2], sub, how=\"left\", on=['english_name'])\n",
    "drop_columns(2,[10,9,0])\n",
    "extract_df[3]['yearly_id']=2021-1950\n",
    "extract_df[3]=pd.merge(extract_df[3], sub, how=\"left\", on=['english_name'])\n",
    "extract_df[3] = extract_df[3][extract_df[3]['country_id'] >= 1]\n",
    "drop_columns(3,[19,18,17,16,15,14,13,12,5,4,3,1,0])\n",
    "rename_column(3,'2:social_support,3:healthy_life_expectancy_at_birth,4:freedom_to_make_life_choices,5:generosity,\\\n",
    "              6:perceptions_of_corruption') \n",
    "extract_df[2]=pd.concat([extract_df[2], extract_df[3]])\n",
    "extract_df[2]\n",
    "extract_df[2] = extract_df[2][extract_df[2]['country_id'] >= 1]\n",
    "type(extract_table_names)\n",
    "print(extract_table_names)\n",
    "extract_table_names.drop([3,4], inplace=True)\n",
    "print(extract_table_names)\n",
    "extract_df.pop(3)\n",
    "extract_df.pop(3)\n",
    "extract_table_names.reset_index(inplace=True)\n",
    "print(extract_table_names)\n",
    "drop_columns(1,[0])\n",
    "road_map('2')\n"
   ]
  },
  {
   "cell_type": "markdown",
   "metadata": {},
   "source": [
    "### Connect to local database"
   ]
  },
  {
   "cell_type": "code",
   "execution_count": 20,
   "metadata": {},
   "outputs": [],
   "source": [
    "\n",
    "rds_connection_string = \"postgres:postgres@localhost:5432/ETL-Project\"\n",
    "engine = create_engine(f'postgresql://{rds_connection_string}')"
   ]
  },
  {
   "cell_type": "markdown",
   "metadata": {},
   "source": [
    "### Check for tables"
   ]
  },
  {
   "cell_type": "code",
   "execution_count": 21,
   "metadata": {},
   "outputs": [
    {
     "name": "stderr",
     "output_type": "stream",
     "text": [
      "<ipython-input-21-d72bc75a6b62>:1: SADeprecationWarning: The Engine.table_names() method is deprecated and will be removed in a future release.  Please refer to Inspector.get_table_names(). (deprecated since: 1.4)\n",
      "  engine.table_names()\n"
     ]
    },
    {
     "data": {
      "text/plain": [
       "['country_code', 'world_happiness', 'yearly', 'population_by_country']"
      ]
     },
     "execution_count": 21,
     "metadata": {},
     "output_type": "execute_result"
    }
   ],
   "source": [
    "engine.table_names()"
   ]
  },
  {
   "cell_type": "markdown",
   "metadata": {},
   "source": [
    "### Use pandas to load csv converted DataFrame into database"
   ]
  },
  {
   "cell_type": "code",
   "execution_count": 22,
   "metadata": {},
   "outputs": [],
   "source": [
    "extract_df[3].to_sql(name='yearly', con=engine, if_exists='append', index=False)\n",
    "extract_df[0].to_sql(name='country_code', con=engine, if_exists='append', index=False)\n",
    "extract_df[1].to_sql(name='population_by_country', con=engine, if_exists='replace', index=False)\n",
    "extract_df[2].to_sql(name='world_happiness', con=engine, if_exists='replace', index=False)"
   ]
  },
  {
   "cell_type": "markdown",
   "metadata": {},
   "source": [
    "### Confirm data has been added by querying to all the tables\n"
   ]
  },
  {
   "cell_type": "code",
   "execution_count": 23,
   "metadata": {},
   "outputs": [
    {
     "data": {
      "text/html": [
       "<div>\n",
       "<style scoped>\n",
       "    .dataframe tbody tr th:only-of-type {\n",
       "        vertical-align: middle;\n",
       "    }\n",
       "\n",
       "    .dataframe tbody tr th {\n",
       "        vertical-align: top;\n",
       "    }\n",
       "\n",
       "    .dataframe thead th {\n",
       "        text-align: right;\n",
       "    }\n",
       "</style>\n",
       "<table border=\"1\" class=\"dataframe\">\n",
       "  <thead>\n",
       "    <tr style=\"text-align: right;\">\n",
       "      <th></th>\n",
       "      <th>country_id</th>\n",
       "      <th>english_name</th>\n",
       "      <th>alpha_2_code</th>\n",
       "      <th>alpha_3_code</th>\n",
       "      <th>numeric_code</th>\n",
       "      <th>iso_3166_2</th>\n",
       "      <th>land_area</th>\n",
       "    </tr>\n",
       "  </thead>\n",
       "  <tbody>\n",
       "    <tr>\n",
       "      <th>0</th>\n",
       "      <td>1</td>\n",
       "      <td>Afghanistan</td>\n",
       "      <td>AF</td>\n",
       "      <td>AFG</td>\n",
       "      <td>4</td>\n",
       "      <td>ISO 3166-2:AF</td>\n",
       "      <td>652860</td>\n",
       "    </tr>\n",
       "    <tr>\n",
       "      <th>1</th>\n",
       "      <td>2</td>\n",
       "      <td>Åland Islands</td>\n",
       "      <td>AX</td>\n",
       "      <td>ALA</td>\n",
       "      <td>248</td>\n",
       "      <td>ISO 3166-2:AX</td>\n",
       "      <td>0</td>\n",
       "    </tr>\n",
       "    <tr>\n",
       "      <th>2</th>\n",
       "      <td>3</td>\n",
       "      <td>Albania</td>\n",
       "      <td>AL</td>\n",
       "      <td>ALB</td>\n",
       "      <td>8</td>\n",
       "      <td>ISO 3166-2:AL</td>\n",
       "      <td>27400</td>\n",
       "    </tr>\n",
       "    <tr>\n",
       "      <th>3</th>\n",
       "      <td>4</td>\n",
       "      <td>Algeria</td>\n",
       "      <td>DZ</td>\n",
       "      <td>DZA</td>\n",
       "      <td>12</td>\n",
       "      <td>ISO 3166-2:DZ</td>\n",
       "      <td>2381740</td>\n",
       "    </tr>\n",
       "    <tr>\n",
       "      <th>4</th>\n",
       "      <td>5</td>\n",
       "      <td>American Samoa</td>\n",
       "      <td>AS</td>\n",
       "      <td>ASM</td>\n",
       "      <td>16</td>\n",
       "      <td>ISO 3166-2:AS</td>\n",
       "      <td>200</td>\n",
       "    </tr>\n",
       "  </tbody>\n",
       "</table>\n",
       "</div>"
      ],
      "text/plain": [
       "   country_id    english_name alpha_2_code alpha_3_code  numeric_code  \\\n",
       "0           1     Afghanistan           AF          AFG             4   \n",
       "1           2   Åland Islands           AX          ALA           248   \n",
       "2           3         Albania           AL          ALB             8   \n",
       "3           4         Algeria           DZ          DZA            12   \n",
       "4           5  American Samoa           AS          ASM            16   \n",
       "\n",
       "      iso_3166_2  land_area  \n",
       "0  ISO 3166-2:AF     652860  \n",
       "1  ISO 3166-2:AX          0  \n",
       "2  ISO 3166-2:AL      27400  \n",
       "3  ISO 3166-2:DZ    2381740  \n",
       "4  ISO 3166-2:AS        200  "
      ]
     },
     "execution_count": 23,
     "metadata": {},
     "output_type": "execute_result"
    }
   ],
   "source": [
    "pd.read_sql_query('select * from country_code', con=engine).head()"
   ]
  },
  {
   "cell_type": "code",
   "execution_count": 24,
   "metadata": {},
   "outputs": [
    {
     "data": {
      "text/html": [
       "<div>\n",
       "<style scoped>\n",
       "    .dataframe tbody tr th:only-of-type {\n",
       "        vertical-align: middle;\n",
       "    }\n",
       "\n",
       "    .dataframe tbody tr th {\n",
       "        vertical-align: top;\n",
       "    }\n",
       "\n",
       "    .dataframe thead th {\n",
       "        text-align: right;\n",
       "    }\n",
       "</style>\n",
       "<table border=\"1\" class=\"dataframe\">\n",
       "  <thead>\n",
       "    <tr style=\"text-align: right;\">\n",
       "      <th></th>\n",
       "      <th>yearly_id</th>\n",
       "      <th>past_year</th>\n",
       "    </tr>\n",
       "  </thead>\n",
       "  <tbody>\n",
       "    <tr>\n",
       "      <th>0</th>\n",
       "      <td>1</td>\n",
       "      <td>1951</td>\n",
       "    </tr>\n",
       "    <tr>\n",
       "      <th>1</th>\n",
       "      <td>2</td>\n",
       "      <td>1952</td>\n",
       "    </tr>\n",
       "    <tr>\n",
       "      <th>2</th>\n",
       "      <td>3</td>\n",
       "      <td>1953</td>\n",
       "    </tr>\n",
       "    <tr>\n",
       "      <th>3</th>\n",
       "      <td>4</td>\n",
       "      <td>1954</td>\n",
       "    </tr>\n",
       "    <tr>\n",
       "      <th>4</th>\n",
       "      <td>5</td>\n",
       "      <td>1955</td>\n",
       "    </tr>\n",
       "  </tbody>\n",
       "</table>\n",
       "</div>"
      ],
      "text/plain": [
       "   yearly_id  past_year\n",
       "0          1       1951\n",
       "1          2       1952\n",
       "2          3       1953\n",
       "3          4       1954\n",
       "4          5       1955"
      ]
     },
     "execution_count": 24,
     "metadata": {},
     "output_type": "execute_result"
    }
   ],
   "source": [
    "pd.read_sql_query('select * from yearly', con=engine).head()"
   ]
  },
  {
   "cell_type": "code",
   "execution_count": 25,
   "metadata": {},
   "outputs": [
    {
     "data": {
      "text/html": [
       "<div>\n",
       "<style scoped>\n",
       "    .dataframe tbody tr th:only-of-type {\n",
       "        vertical-align: middle;\n",
       "    }\n",
       "\n",
       "    .dataframe tbody tr th {\n",
       "        vertical-align: top;\n",
       "    }\n",
       "\n",
       "    .dataframe thead th {\n",
       "        text-align: right;\n",
       "    }\n",
       "</style>\n",
       "<table border=\"1\" class=\"dataframe\">\n",
       "  <thead>\n",
       "    <tr style=\"text-align: right;\">\n",
       "      <th></th>\n",
       "      <th>net_change</th>\n",
       "      <th>migrants</th>\n",
       "      <th>fert_rate</th>\n",
       "      <th>med_age</th>\n",
       "      <th>urban_pop</th>\n",
       "      <th>country_id</th>\n",
       "      <th>yearly_id</th>\n",
       "    </tr>\n",
       "  </thead>\n",
       "  <tbody>\n",
       "    <tr>\n",
       "      <th>0</th>\n",
       "      <td>5540090</td>\n",
       "      <td>-348399.0</td>\n",
       "      <td>1.7</td>\n",
       "      <td>38</td>\n",
       "      <td>61 %</td>\n",
       "      <td>45.0</td>\n",
       "      <td>70</td>\n",
       "    </tr>\n",
       "    <tr>\n",
       "      <th>1</th>\n",
       "      <td>13586631</td>\n",
       "      <td>-532687.0</td>\n",
       "      <td>2.2</td>\n",
       "      <td>28</td>\n",
       "      <td>35 %</td>\n",
       "      <td>101.0</td>\n",
       "      <td>70</td>\n",
       "    </tr>\n",
       "    <tr>\n",
       "      <th>2</th>\n",
       "      <td>1937734</td>\n",
       "      <td>954806.0</td>\n",
       "      <td>1.8</td>\n",
       "      <td>38</td>\n",
       "      <td>83 %</td>\n",
       "      <td>233.0</td>\n",
       "      <td>70</td>\n",
       "    </tr>\n",
       "    <tr>\n",
       "      <th>3</th>\n",
       "      <td>2898047</td>\n",
       "      <td>-98955.0</td>\n",
       "      <td>2.3</td>\n",
       "      <td>30</td>\n",
       "      <td>56 %</td>\n",
       "      <td>102.0</td>\n",
       "      <td>70</td>\n",
       "    </tr>\n",
       "    <tr>\n",
       "      <th>4</th>\n",
       "      <td>4327022</td>\n",
       "      <td>-233379.0</td>\n",
       "      <td>3.6</td>\n",
       "      <td>23</td>\n",
       "      <td>35 %</td>\n",
       "      <td>167.0</td>\n",
       "      <td>70</td>\n",
       "    </tr>\n",
       "  </tbody>\n",
       "</table>\n",
       "</div>"
      ],
      "text/plain": [
       "   net_change  migrants fert_rate med_age urban_pop  country_id  yearly_id\n",
       "0     5540090 -348399.0       1.7      38      61 %        45.0         70\n",
       "1    13586631 -532687.0       2.2      28      35 %       101.0         70\n",
       "2     1937734  954806.0       1.8      38      83 %       233.0         70\n",
       "3     2898047  -98955.0       2.3      30      56 %       102.0         70\n",
       "4     4327022 -233379.0       3.6      23      35 %       167.0         70"
      ]
     },
     "execution_count": 25,
     "metadata": {},
     "output_type": "execute_result"
    }
   ],
   "source": [
    "pd.read_sql_query('select * from population_by_country', con=engine).head()"
   ]
  },
  {
   "cell_type": "code",
   "execution_count": 26,
   "metadata": {},
   "outputs": [
    {
     "data": {
      "text/html": [
       "<div>\n",
       "<style scoped>\n",
       "    .dataframe tbody tr th:only-of-type {\n",
       "        vertical-align: middle;\n",
       "    }\n",
       "\n",
       "    .dataframe tbody tr th {\n",
       "        vertical-align: top;\n",
       "    }\n",
       "\n",
       "    .dataframe thead th {\n",
       "        text-align: right;\n",
       "    }\n",
       "</style>\n",
       "<table border=\"1\" class=\"dataframe\">\n",
       "  <thead>\n",
       "    <tr style=\"text-align: right;\">\n",
       "      <th></th>\n",
       "      <th>yearly_id</th>\n",
       "      <th>life_ladder</th>\n",
       "      <th>log_gdp_per_capita</th>\n",
       "      <th>social_support</th>\n",
       "      <th>healthy_life_expectancy_at_birth</th>\n",
       "      <th>freedom_to_make_life_choices</th>\n",
       "      <th>generosity</th>\n",
       "      <th>perceptions_of_corruption</th>\n",
       "      <th>country_id</th>\n",
       "    </tr>\n",
       "  </thead>\n",
       "  <tbody>\n",
       "    <tr>\n",
       "      <th>0</th>\n",
       "      <td>58</td>\n",
       "      <td>3.724</td>\n",
       "      <td>7.370</td>\n",
       "      <td>0.451</td>\n",
       "      <td>50.80</td>\n",
       "      <td>0.718</td>\n",
       "      <td>0.168</td>\n",
       "      <td>0.882</td>\n",
       "      <td>1.0</td>\n",
       "    </tr>\n",
       "    <tr>\n",
       "      <th>1</th>\n",
       "      <td>59</td>\n",
       "      <td>4.402</td>\n",
       "      <td>7.540</td>\n",
       "      <td>0.552</td>\n",
       "      <td>51.20</td>\n",
       "      <td>0.679</td>\n",
       "      <td>0.190</td>\n",
       "      <td>0.850</td>\n",
       "      <td>1.0</td>\n",
       "    </tr>\n",
       "    <tr>\n",
       "      <th>2</th>\n",
       "      <td>60</td>\n",
       "      <td>4.758</td>\n",
       "      <td>7.647</td>\n",
       "      <td>0.539</td>\n",
       "      <td>51.60</td>\n",
       "      <td>0.600</td>\n",
       "      <td>0.121</td>\n",
       "      <td>0.707</td>\n",
       "      <td>1.0</td>\n",
       "    </tr>\n",
       "    <tr>\n",
       "      <th>3</th>\n",
       "      <td>61</td>\n",
       "      <td>3.832</td>\n",
       "      <td>7.620</td>\n",
       "      <td>0.521</td>\n",
       "      <td>51.92</td>\n",
       "      <td>0.496</td>\n",
       "      <td>0.162</td>\n",
       "      <td>0.731</td>\n",
       "      <td>1.0</td>\n",
       "    </tr>\n",
       "    <tr>\n",
       "      <th>4</th>\n",
       "      <td>62</td>\n",
       "      <td>3.783</td>\n",
       "      <td>7.705</td>\n",
       "      <td>0.521</td>\n",
       "      <td>52.24</td>\n",
       "      <td>0.531</td>\n",
       "      <td>0.236</td>\n",
       "      <td>0.776</td>\n",
       "      <td>1.0</td>\n",
       "    </tr>\n",
       "  </tbody>\n",
       "</table>\n",
       "</div>"
      ],
      "text/plain": [
       "   yearly_id  life_ladder  log_gdp_per_capita  social_support  \\\n",
       "0         58        3.724               7.370           0.451   \n",
       "1         59        4.402               7.540           0.552   \n",
       "2         60        4.758               7.647           0.539   \n",
       "3         61        3.832               7.620           0.521   \n",
       "4         62        3.783               7.705           0.521   \n",
       "\n",
       "   healthy_life_expectancy_at_birth  freedom_to_make_life_choices  generosity  \\\n",
       "0                             50.80                         0.718       0.168   \n",
       "1                             51.20                         0.679       0.190   \n",
       "2                             51.60                         0.600       0.121   \n",
       "3                             51.92                         0.496       0.162   \n",
       "4                             52.24                         0.531       0.236   \n",
       "\n",
       "   perceptions_of_corruption  country_id  \n",
       "0                      0.882         1.0  \n",
       "1                      0.850         1.0  \n",
       "2                      0.707         1.0  \n",
       "3                      0.731         1.0  \n",
       "4                      0.776         1.0  "
      ]
     },
     "execution_count": 26,
     "metadata": {},
     "output_type": "execute_result"
    }
   ],
   "source": [
    "pd.read_sql_query('select * from world_happiness', con=engine).head()"
   ]
  },
  {
   "cell_type": "code",
   "execution_count": null,
   "metadata": {},
   "outputs": [],
   "source": []
  }
 ],
 "metadata": {
  "interpreter": {
   "hash": "3674635d594374ac1334c24fbd1d7a6bbd37f972ee29fb99542c24b5db13b8e5"
  },
  "kernelspec": {
   "display_name": "Python 3",
   "language": "python",
   "name": "python3"
  },
  "language_info": {
   "codemirror_mode": {
    "name": "ipython",
    "version": 3
   },
   "file_extension": ".py",
   "mimetype": "text/x-python",
   "name": "python",
   "nbconvert_exporter": "python",
   "pygments_lexer": "ipython3",
   "version": "3.8.8"
  },
  "nteract": {
   "version": "0.12.3"
  }
 },
 "nbformat": 4,
 "nbformat_minor": 2
}
